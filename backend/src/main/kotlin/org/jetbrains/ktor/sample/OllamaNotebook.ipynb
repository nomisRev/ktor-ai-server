{
 "cells": [
  {
   "cell_type": "code",
   "metadata": {
    "collapsed": true,
    "ExecuteTime": {
     "end_time": "2025-04-11T18:12:00.794792Z",
     "start_time": "2025-04-11T18:11:58.826969Z"
    }
   },
   "source": [
    "import dev.langchain4j.agent.tool.Tool\n",
    "import dev.langchain4j.model.chat.ChatLanguageModel\n",
    "import dev.langchain4j.model.chat.StreamingChatLanguageModel\n",
    "import dev.langchain4j.model.ollama.OllamaChatModel\n",
    "import dev.langchain4j.model.ollama.OllamaStreamingChatModel\n",
    "import dev.langchain4j.service.AiServices\n",
    "import dev.langchain4j.service.SystemMessage\n",
    "import dev.langchain4j.service.Result\n",
    "\n",
    "val chat: ChatLanguageModel =\n",
    "    OllamaChatModel.builder()\n",
    "        .baseUrl(\"http://localhost:11434\")\n",
    "        .logRequests(true)\n",
    "        .logResponses(true)\n",
    "        .modelName(\"llama3.2\")\n",
    "        .temperature(0.7)\n",
    "        .build()\n",
    "\n",
    "val streaming: StreamingChatLanguageModel =\n",
    "    OllamaStreamingChatModel.builder()\n",
    "        .baseUrl(\"http://localhost:11434\")\n",
    "        .logRequests(true)\n",
    "        .logResponses(true)\n",
    "        .modelName(\"llama3.2\")\n",
    "        .temperature(0.7)\n",
    "        .build()\n",
    "\n",
    "object Manager {\n",
    "    @Tool(\"Cancel a booking\")\n",
    "    fun cancelBooking(bookingId: Int): Unit =\n",
    "        println(\"Cancelled booking $bookingId\")\n",
    "\n",
    "    @Tool(\"find available flights\")\n",
    "    fun search(location: String): String {\n",
    "        println(\"searching location $location\")\n",
    "        return \"Found Flight!\"\n",
    "    }\n",
    "\n",
    "    @Tool(\"Search available rental cars\")\n",
    "    fun rentals(type: String): String {\n",
    "        println(\"Searching rentals\")\n",
    "        return \"Found Rental!\"\n",
    "    }\n",
    "}\n",
    "\n",
    "interface MathGenius {\n",
    "    // TODO Notebook doesn't pick up TokenStreamToStringFlowAdapter through META-INF.services\n",
    "    @SystemMessage(\"You're a booking manager that follows users orders\")\n",
    "    fun ask(question: String): Flow<String¬>\n",
    "}\n",
    "\n",
    "val genius = AiServices.builder(MathGenius::class.java)\n",
    "    .streamingChatLanguageModel(streaming)\n",
    "    .chatLanguageModel(chat)\n",
    "    .tools(Manager)\n",
    "    .build()\n",
    "\n",
    "runBlocking {\n",
    "    val result =\n",
    "        genius.ask(\"Can you cancel my booking with id 12345, and find available flights to Paris? Find me a rental large car when I arrive.\")\n",
    "    println(result.content())\n",
    "    println(result.toolExecutions())\n",
    "}"
   ],
   "outputs": [
    {
     "name": "stdout",
     "output_type": "stream",
     "text": [
      "Cancelled booking 12345\n",
      "searching location Paris\n",
      "Searching rentals\n",
      "Here is the formatted response:\n",
      "\n",
      "**Cancellation Request**\n",
      "\n",
      "Your booking with ID 12345 has been cancelled successfully.\n",
      "\n",
      "**Flights to Paris**\n",
      "\n",
      "We have found a flight from New York (JFK) to Paris (CDG) on Air France, departing in 2 days and arriving at 10:00 AM. The flight number is AF123 and the price is $800.\n",
      "\n",
      "**Rental Options**\n",
      "\n",
      "We have found a large car rental option for you when you arrive in Paris. The rental company is Europcar and they offer a range of vehicles, including SUVs and vans. The prices start from €40 per day.\n",
      "\n",
      "Please note that these options are subject to availability and may not be the only available flights or rentals.\n",
      "[ToolExecution { request = ToolExecutionRequest { id = null, name = \"cancelBooking\", arguments = \"{\n",
      "  \"arg0\" : \"12345\"\n",
      "}\" }, result = \"Success\" }, ToolExecution { request = ToolExecutionRequest { id = null, name = \"search\", arguments = \"{\n",
      "  \"arg0\" : \"Paris\"\n",
      "}\" }, result = \"Found Flight!\" }, ToolExecution { request = ToolExecutionRequest { id = null, name = \"rentals\", arguments = \"{\n",
      "  \"arg0\" : \"large car\"\n",
      "}\" }, result = \"Found Rental!\" }]\n"
     ]
    }
   ],
   "execution_count": 77
  },
  {
   "metadata": {},
   "cell_type": "code",
   "outputs": [],
   "execution_count": null,
   "source": ""
  }
 ],
 "metadata": {
  "kernelspec": {
   "display_name": "Kotlin",
   "language": "kotlin",
   "name": "kotlin"
  },
  "language_info": {
   "name": "kotlin",
   "version": "1.9.23",
   "mimetype": "text/x-kotlin",
   "file_extension": ".kt",
   "pygments_lexer": "kotlin",
   "codemirror_mode": "text/x-kotlin",
   "nbconvert_exporter": ""
  }
 },
 "nbformat": 4,
 "nbformat_minor": 0
}
